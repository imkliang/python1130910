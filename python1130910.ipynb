{
  "nbformat": 4,
  "nbformat_minor": 0,
  "metadata": {
    "colab": {
      "provenance": [],
      "authorship_tag": "ABX9TyNuBXklIXZ3Y5QCZpOeTtFf",
      "include_colab_link": true
    },
    "kernelspec": {
      "name": "python3",
      "display_name": "Python 3"
    },
    "language_info": {
      "name": "python"
    }
  },
  "cells": [
    {
      "cell_type": "markdown",
      "metadata": {
        "id": "view-in-github",
        "colab_type": "text"
      },
      "source": [
        "<a href=\"https://colab.research.google.com/github/imkliang/python1130910/blob/main/python1130910.ipynb\" target=\"_parent\"><img src=\"https://colab.research.google.com/assets/colab-badge.svg\" alt=\"Open In Colab\"/></a>"
      ]
    },
    {
      "cell_type": "code",
      "execution_count": null,
      "metadata": {
        "id": "2ZO7Y-LqPXL0"
      },
      "outputs": [],
      "source": []
    },
    {
      "cell_type": "code",
      "source": [],
      "metadata": {
        "id": "oGXHTaY_PcOs"
      },
      "execution_count": null,
      "outputs": []
    },
    {
      "cell_type": "markdown",
      "source": [
        "blackTea = 45\n",
        "name = input('請輸入你的名字')\n",
        "qty = int (input('請輸入購買杯數'))\n",
        "print(\"Hi !%-12\" %name)\n",
        "if qty >= 10:\n",
        "  total = qty * blackTea *0.9\n",
        "  print('飲料$%4.2f' %total)\n",
        "else:\n",
        "  total =qty*blackTea\n",
        "  print('飲料 $ %4d' %total)"
      ],
      "metadata": {
        "id": "8NIVhi5VPdAy"
      }
    },
    {
      "cell_type": "code",
      "source": [
        "blackTea = 45\n",
        "name = input('請輸入你的名字')\n",
        "qty = int(input('請輸入購買杯數'))\n",
        "print(\"Hi !%-12s\" %name)\n",
        "if qty >= 10:\n",
        "    total = qty * blackTea * 0.9\n",
        "    print('飲料總價: %4d' %total)\n",
        "else:\n",
        "    total = qty * blackTea\n",
        "    print('飲料總價: %4d' %total)"
      ],
      "metadata": {
        "colab": {
          "base_uri": "https://localhost:8080/"
        },
        "id": "Or5IVNzRQvyN",
        "outputId": "35cce491-5f60-4a18-cbb5-e801eb15aebc"
      },
      "execution_count": null,
      "outputs": [
        {
          "output_type": "stream",
          "name": "stdout",
          "text": [
            "請輸入你的名字seab\n",
            "請輸入購買杯數12\n",
            "Hi !seab        \n",
            "飲料總價:  486\n"
          ]
        }
      ]
    },
    {
      "cell_type": "markdown",
      "source": [],
      "metadata": {
        "id": "kAz9JULFPkxL"
      }
    }
  ]
}
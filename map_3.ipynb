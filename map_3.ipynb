{
  "nbformat": 4,
  "nbformat_minor": 0,
  "metadata": {
    "colab": {
      "provenance": [],
      "authorship_tag": "ABX9TyO6xH4LipMd1saui5roVPEy",
      "include_colab_link": true
    },
    "kernelspec": {
      "name": "python3",
      "display_name": "Python 3"
    },
    "language_info": {
      "name": "python"
    }
  },
  "cells": [
    {
      "cell_type": "markdown",
      "metadata": {
        "id": "view-in-github",
        "colab_type": "text"
      },
      "source": [
        "<a href=\"https://colab.research.google.com/github/imkliang/python1130910/blob/main/map_3.ipynb\" target=\"_parent\"><img src=\"https://colab.research.google.com/assets/colab-badge.svg\" alt=\"Open In Colab\"/></a>"
      ]
    },
    {
      "cell_type": "code",
      "execution_count": 7,
      "metadata": {
        "colab": {
          "base_uri": "https://localhost:8080/"
        },
        "id": "WXdEX7wKqifl",
        "outputId": "88b65b06-5dba-4eda-a2f6-690b70c389e3"
      },
      "outputs": [
        {
          "output_type": "stream",
          "name": "stdout",
          "text": [
            "2.3,3.3,4.3\n",
            "[2.3, 3.3, 4.3]\n",
            "2.3 3.3 4.3\n",
            "[2.3, 3.3, 4.3]\n",
            "34.67\n"
          ]
        }
      ],
      "source": [
        "a= list (map(float,input().split(',')))\n",
        "print(a)\n",
        "\n",
        "b=list(map(float,input().split()))\n",
        "print(b)\n",
        "\n",
        "result =sum(x *y for x ,y in zip(a,b))\n",
        "print(result)"
      ]
    }
  ]
}